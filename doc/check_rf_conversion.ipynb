{
 "cells": [
  {
   "cell_type": "markdown",
   "id": "18ce8a1e",
   "metadata": {},
   "source": [
    "# Convert a RooAbsPdf to a python callable\n",
    "\n",
    "This is a simple demonstration that the wrapper function `convert_rf_pdf` does what we expect"
   ]
  },
  {
   "cell_type": "markdown",
   "id": "22b258cd",
   "metadata": {},
   "source": [
    "## Make a dummy RooFit model"
   ]
  },
  {
   "cell_type": "code",
   "execution_count": 2,
   "id": "a3af5ae3",
   "metadata": {},
   "outputs": [
    {
     "name": "stdout",
     "output_type": "stream",
     "text": [
      "Welcome to JupyROOT 6.22/02\n",
      "\n",
      "\u001b[1mRooFit v3.60 -- Developed by Wouter Verkerke and David Kirkby\u001b[0m \n",
      "                Copyright (C) 2000-2013 NIKHEF, University of California & Stanford University\n",
      "                All rights reserved, please read http://roofit.sourceforge.net/license.txt\n",
      "\n"
     ]
    }
   ],
   "source": [
    "import ROOT as r\n",
    "from ROOT import RooFit as rf\n",
    "\n",
    "# observable\n",
    "mass = r.RooRealVar(\"m\", \"m\", 5000, 5800)\n",
    "\n",
    "# gaussian\n",
    "mean = r.RooRealVar(\"mu\", \"mu\", 5350, 5300, 5400)\n",
    "sigma = r.RooRealVar(\"sg\", \"sg\", 25, 0, 100)\n",
    "spdf = r.RooGaussian(\"sig\", \"sig\", mass, mean, sigma)\n",
    "\n",
    "# exponential\n",
    "slope = r.RooRealVar(\"lb\", \"lb\", -0.002, -0.01, 0)\n",
    "bpdf = r.RooExponential(\"bkg\", \"bkg\", mass, slope)\n",
    "\n",
    "# total\n",
    "sy = r.RooRealVar(\"sy\", \"sy\", 1000, 0, 10000)\n",
    "by = r.RooRealVar(\"by\", \"by\", 2000, 0, 10000)\n",
    "pdf = r.RooAddPdf(\"pdf\", \"pdf\", r.RooArgList(spdf, bpdf), r.RooArgList(sy, by))"
   ]
  },
  {
   "cell_type": "markdown",
   "id": "b4741cad",
   "metadata": {},
   "source": [
    "## Plot the dummy RooFit model"
   ]
  },
  {
   "cell_type": "code",
   "execution_count": 3,
   "id": "13ca026c",
   "metadata": {},
   "outputs": [
    {
     "name": "stdout",
     "output_type": "stream",
     "text": [
      "[#1] INFO:Plotting -- RooAbsPdf::plotOn(pdf) directly selected PDF components: (bkg)\n",
      "[#1] INFO:Plotting -- RooAbsPdf::plotOn(pdf) indirectly selected PDF components: ()\n",
      "[#1] INFO:Plotting -- RooAbsPdf::plotOn(pdf) directly selected PDF components: (sig)\n",
      "[#1] INFO:Plotting -- RooAbsPdf::plotOn(pdf) indirectly selected PDF components: ()\n"
     ]
    },
    {
     "data": {
      "image/png": "[encoded data removed]",
      "text/plain": [
       "<IPython.core.display.Image object>"
      ]
     },
     "metadata": {},
     "output_type": "display_data"
    }
   ],
   "source": [
    "c = r.TCanvas('c','c',450,300)\n",
    "pl = mass.frame(rf.Bins(800))\n",
    "pdf.plotOn(\n",
    "    pl,\n",
    "    rf.Normalization(1, r.RooAbsReal.NumEvent),\n",
    "    rf.Precision(-1),\n",
    "    rf.Components(\"bkg\"),\n",
    "    rf.LineColor(r.kRed),\n",
    "    rf.LineStyle(2),\n",
    "    rf.LineWidth(2)\n",
    ")\n",
    "pdf.plotOn(\n",
    "    pl,\n",
    "    rf.Normalization(1, r.RooAbsReal.NumEvent),\n",
    "    rf.Precision(-1),\n",
    "    rf.Components(\"sig\"),\n",
    "    rf.LineColor(r.kGreen + 3),\n",
    "    rf.LineWidth(2)\n",
    ")\n",
    "pdf.plotOn(pl, rf.Normalization(1, r.RooAbsReal.NumEvent), rf.Precision(-1), rf.LineWidth(2))\n",
    "pl.Draw()\n",
    "c.Draw();"
   ]
  },
  {
   "cell_type": "markdown",
   "id": "2ef6a560",
   "metadata": {},
   "source": [
    "## Convert the RooFit pdfs to python callables\n",
    "\n",
    "Making use of the `sweights` package wrapper `convert_rf_pdf`"
   ]
  },
  {
   "cell_type": "code",
   "execution_count": 4,
   "id": "cade52b9",
   "metadata": {},
   "outputs": [],
   "source": [
    "from sweights import convert_rf_pdf\n",
    "\n",
    "_spdf = convert_rf_pdf(spdf, mass)\n",
    "_bpdf = convert_rf_pdf(bpdf, mass)\n",
    "_pdf = convert_rf_pdf(pdf, mass)"
   ]
  },
  {
   "cell_type": "markdown",
   "id": "46200a4d",
   "metadata": {},
   "source": [
    "## Now draw the python function with matplotlib"
   ]
  },
  {
   "cell_type": "code",
   "execution_count": 6,
   "id": "ff9516a7",
   "metadata": {},
   "outputs": [
    {
     "data": {
      "image/png": "[encoded data removed]",
      "text/plain": [
       "<Figure size 432x288 with 1 Axes>"
      ]
     },
     "metadata": {
      "needs_background": "light"
     },
     "output_type": "display_data"
    }
   ],
   "source": [
    "import matplotlib.pyplot as plt\n",
    "import numpy as np\n",
    "\n",
    "fs = sy.getVal() / (sy.getVal() + by.getVal())\n",
    "fb = by.getVal() / (sy.getVal() + by.getVal())\n",
    "\n",
    "x = np.linspace(mass.getMin(), mass.getMax(), 400)\n",
    "plt.plot(x, fs * _spdf(x), \"g-\");\n",
    "plt.plot(x, fb * _bpdf(x), \"r--\");\n",
    "plt.plot(x, _pdf(x), \"b-\");"
   ]
  },
  {
   "cell_type": "markdown",
   "id": "27b71e03",
   "metadata": {},
   "source": [
    "Looks ok!"
   ]
  }
 ],
 "metadata": {
  "kernelspec": {
   "display_name": "Python 3 (ipykernel)",
   "language": "python",
   "name": "python3"
  },
  "language_info": {
   "codemirror_mode": {
    "name": "ipython",
    "version": 3
   },
   "file_extension": ".py",
   "mimetype": "text/x-python",
   "name": "python",
   "nbconvert_exporter": "python",
   "pygments_lexer": "ipython3",
   "version": "3.8.6"
  }
 },
 "nbformat": 4,
 "nbformat_minor": 5
}
